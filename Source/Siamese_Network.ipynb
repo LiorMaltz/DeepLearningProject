{
 "cells": [
  {
   "cell_type": "markdown",
   "source": [
    "Imports cell"
   ],
   "metadata": {
    "collapsed": false
   }
  },
  {
   "cell_type": "code",
   "execution_count": 11,
   "outputs": [],
   "source": [
    "import numpy as np\n",
    "import pandas as pd\n",
    "\n",
    "import torch\n",
    "import torch.nn as nn"
   ],
   "metadata": {
    "collapsed": false
   }
  },
  {
   "cell_type": "markdown",
   "source": [
    "The file 'all_data_info.csv' is store all the information about the data we will on our Siamese model.\n",
    "With Csv reader variable we could investigate the data, and from there decide how to build the model."
   ],
   "metadata": {
    "collapsed": false
   }
  },
  {
   "cell_type": "code",
   "execution_count": 31,
   "outputs": [
    {
     "data": {
      "text/plain": "                       artist    date                     genre  pixelsx  \\\n0              Barnett Newman  1955.0                  abstract  15530.0   \n1              Barnett Newman  1950.0                  abstract  14559.0   \n2                 kiri nichol  2013.0                       NaN   9003.0   \n3                 kiri nichol  2013.0                       NaN   9003.0   \n4                 kiri nichol  2013.0                       NaN   9003.0   \n5               Tosa Mitsuoki     NaN     mythological painting  25528.0   \n6              Barnett Newman     NaN                  abstract   7345.0   \n7                   Hiroshige    1838  bird-and-flower painting   6483.0   \n8              Barnett Newman  1963.0                  abstract   6049.0   \n9   Franz Richard Unterberger     NaN                 cityscape   6238.0   \n10                  Hiroshige    1844  bird-and-flower painting   5492.0   \n11            Wolfgang Paalen  1937.0                 landscape   5331.0   \n12                     Mabuse     NaN        religious painting   5259.0   \n13           Utagawa Kunisada     NaN                 landscape   9293.0   \n14            Ivan Aivazovsky    1873                    marina   7444.0   \n15              Paul Serusier    1890            genre painting   7099.0   \n16                  Hiroshige    1838  bird-and-flower painting   4256.0   \n17                  Hiroshige     NaN  bird-and-flower painting   4154.0   \n18           Hieronymus Bosch    1515        religious painting   8533.0   \n19                  Hiroshige    1850  bird-and-flower painting   4045.0   \n\n    pixelsy  size_bytes   source                 style  \\\n0    6911.0   9201912.0  wikiart  Color Field Painting   \n1    6866.0   8867532.0  wikiart  Color Field Painting   \n2    9004.0   1756681.0      NaN         Neoplasticism   \n3    9004.0   1942046.0      NaN         Neoplasticism   \n4    9004.0   1526212.0      NaN         Neoplasticism   \n5    3000.0  10496349.0  wikiart              Yamato-e   \n6    8640.0   6383948.0  wikiart  Color Field Painting   \n7    9276.0  12762418.0  wikiart               Ukiyo-e   \n8    8206.0   1135960.0  wikiart  Color Field Painting   \n9    7352.0   7896792.0  wikiart           Romanticism   \n10   8283.0  10736273.0  wikiart               Ukiyo-e   \n11   8351.0   1407667.0  wikiart            Surrealism   \n12   8400.0   1489790.0  wikiart  Northern Renaissance   \n13   4688.0  10274760.0  wikiart               Ukiyo-e   \n14   5811.0   3189597.0  wikiart           Romanticism   \n15   5857.0   9803854.0  wikiart           Cloisonnism   \n16   9127.0   6483189.0  wikiart               Ukiyo-e   \n17   9051.0   5964682.0  wikiart               Ukiyo-e   \n18   4325.0   6675952.0  wikiart  Northern Renaissance   \n19   8999.0   5930496.0  wikiart               Ukiyo-e   \n\n                                                title    artist_group  \\\n0                                               Uriel      train_only   \n1                               Vir Heroicus Sublimis      train_only   \n2                                                 NaN       test_only   \n3                                                 NaN       test_only   \n4                                                 NaN       test_only   \n5         Night March of a Hundred Demons (left half)      train_only   \n6            Who’s Afraid of Red,  Yellow and Blue II      train_only   \n7               Small Bird on a Branch of Kaidozakura  train_and_test   \n8                                       Black Fire I       train_only   \n9                               Procession in Naples   train_and_test   \n10                          Camellia and Bush Warbler  train_and_test   \n11                                    Forbidden Land       train_only   \n12                             Descent from the cross      train_only   \n13  Snowy landscape with a woman brandishing a bro...      train_only   \n14                                       Storm at sea  train_and_test   \n15                                   Seaweed Gatherer  train_and_test   \n16                                Two Mandarin Ducks   train_and_test   \n17                           Hydrangea and Kingfisher  train_and_test   \n18                    The Garden of Earthly Delights   train_and_test   \n19                  Moon, Swallows and Peach Blossoms  train_and_test   \n\n    in_train new_filename  \n0       True   102257.jpg  \n1       True    75232.jpg  \n2      False    32145.jpg  \n3      False    20304.jpg  \n4      False      836.jpg  \n5       True    29855.jpg  \n6       True    62252.jpg  \n7      False    49823.jpg  \n8       True    63861.jpg  \n9      False    84512.jpg  \n10      True    53180.jpg  \n11      True    70944.jpg  \n12      True    59792.jpg  \n13      True    48138.jpg  \n14      True    99442.jpg  \n15     False    32996.jpg  \n16     False    77203.jpg  \n17      True    23508.jpg  \n18      True    82352.jpg  \n19      True    27254.jpg  ",
      "text/html": "<div>\n<style scoped>\n    .dataframe tbody tr th:only-of-type {\n        vertical-align: middle;\n    }\n\n    .dataframe tbody tr th {\n        vertical-align: top;\n    }\n\n    .dataframe thead th {\n        text-align: right;\n    }\n</style>\n<table border=\"1\" class=\"dataframe\">\n  <thead>\n    <tr style=\"text-align: right;\">\n      <th></th>\n      <th>artist</th>\n      <th>date</th>\n      <th>genre</th>\n      <th>pixelsx</th>\n      <th>pixelsy</th>\n      <th>size_bytes</th>\n      <th>source</th>\n      <th>style</th>\n      <th>title</th>\n      <th>artist_group</th>\n      <th>in_train</th>\n      <th>new_filename</th>\n    </tr>\n  </thead>\n  <tbody>\n    <tr>\n      <th>0</th>\n      <td>Barnett Newman</td>\n      <td>1955.0</td>\n      <td>abstract</td>\n      <td>15530.0</td>\n      <td>6911.0</td>\n      <td>9201912.0</td>\n      <td>wikiart</td>\n      <td>Color Field Painting</td>\n      <td>Uriel</td>\n      <td>train_only</td>\n      <td>True</td>\n      <td>102257.jpg</td>\n    </tr>\n    <tr>\n      <th>1</th>\n      <td>Barnett Newman</td>\n      <td>1950.0</td>\n      <td>abstract</td>\n      <td>14559.0</td>\n      <td>6866.0</td>\n      <td>8867532.0</td>\n      <td>wikiart</td>\n      <td>Color Field Painting</td>\n      <td>Vir Heroicus Sublimis</td>\n      <td>train_only</td>\n      <td>True</td>\n      <td>75232.jpg</td>\n    </tr>\n    <tr>\n      <th>2</th>\n      <td>kiri nichol</td>\n      <td>2013.0</td>\n      <td>NaN</td>\n      <td>9003.0</td>\n      <td>9004.0</td>\n      <td>1756681.0</td>\n      <td>NaN</td>\n      <td>Neoplasticism</td>\n      <td>NaN</td>\n      <td>test_only</td>\n      <td>False</td>\n      <td>32145.jpg</td>\n    </tr>\n    <tr>\n      <th>3</th>\n      <td>kiri nichol</td>\n      <td>2013.0</td>\n      <td>NaN</td>\n      <td>9003.0</td>\n      <td>9004.0</td>\n      <td>1942046.0</td>\n      <td>NaN</td>\n      <td>Neoplasticism</td>\n      <td>NaN</td>\n      <td>test_only</td>\n      <td>False</td>\n      <td>20304.jpg</td>\n    </tr>\n    <tr>\n      <th>4</th>\n      <td>kiri nichol</td>\n      <td>2013.0</td>\n      <td>NaN</td>\n      <td>9003.0</td>\n      <td>9004.0</td>\n      <td>1526212.0</td>\n      <td>NaN</td>\n      <td>Neoplasticism</td>\n      <td>NaN</td>\n      <td>test_only</td>\n      <td>False</td>\n      <td>836.jpg</td>\n    </tr>\n    <tr>\n      <th>5</th>\n      <td>Tosa Mitsuoki</td>\n      <td>NaN</td>\n      <td>mythological painting</td>\n      <td>25528.0</td>\n      <td>3000.0</td>\n      <td>10496349.0</td>\n      <td>wikiart</td>\n      <td>Yamato-e</td>\n      <td>Night March of a Hundred Demons (left half)</td>\n      <td>train_only</td>\n      <td>True</td>\n      <td>29855.jpg</td>\n    </tr>\n    <tr>\n      <th>6</th>\n      <td>Barnett Newman</td>\n      <td>NaN</td>\n      <td>abstract</td>\n      <td>7345.0</td>\n      <td>8640.0</td>\n      <td>6383948.0</td>\n      <td>wikiart</td>\n      <td>Color Field Painting</td>\n      <td>Who’s Afraid of Red,  Yellow and Blue II</td>\n      <td>train_only</td>\n      <td>True</td>\n      <td>62252.jpg</td>\n    </tr>\n    <tr>\n      <th>7</th>\n      <td>Hiroshige</td>\n      <td>1838</td>\n      <td>bird-and-flower painting</td>\n      <td>6483.0</td>\n      <td>9276.0</td>\n      <td>12762418.0</td>\n      <td>wikiart</td>\n      <td>Ukiyo-e</td>\n      <td>Small Bird on a Branch of Kaidozakura</td>\n      <td>train_and_test</td>\n      <td>False</td>\n      <td>49823.jpg</td>\n    </tr>\n    <tr>\n      <th>8</th>\n      <td>Barnett Newman</td>\n      <td>1963.0</td>\n      <td>abstract</td>\n      <td>6049.0</td>\n      <td>8206.0</td>\n      <td>1135960.0</td>\n      <td>wikiart</td>\n      <td>Color Field Painting</td>\n      <td>Black Fire I</td>\n      <td>train_only</td>\n      <td>True</td>\n      <td>63861.jpg</td>\n    </tr>\n    <tr>\n      <th>9</th>\n      <td>Franz Richard Unterberger</td>\n      <td>NaN</td>\n      <td>cityscape</td>\n      <td>6238.0</td>\n      <td>7352.0</td>\n      <td>7896792.0</td>\n      <td>wikiart</td>\n      <td>Romanticism</td>\n      <td>Procession in Naples</td>\n      <td>train_and_test</td>\n      <td>False</td>\n      <td>84512.jpg</td>\n    </tr>\n    <tr>\n      <th>10</th>\n      <td>Hiroshige</td>\n      <td>1844</td>\n      <td>bird-and-flower painting</td>\n      <td>5492.0</td>\n      <td>8283.0</td>\n      <td>10736273.0</td>\n      <td>wikiart</td>\n      <td>Ukiyo-e</td>\n      <td>Camellia and Bush Warbler</td>\n      <td>train_and_test</td>\n      <td>True</td>\n      <td>53180.jpg</td>\n    </tr>\n    <tr>\n      <th>11</th>\n      <td>Wolfgang Paalen</td>\n      <td>1937.0</td>\n      <td>landscape</td>\n      <td>5331.0</td>\n      <td>8351.0</td>\n      <td>1407667.0</td>\n      <td>wikiart</td>\n      <td>Surrealism</td>\n      <td>Forbidden Land</td>\n      <td>train_only</td>\n      <td>True</td>\n      <td>70944.jpg</td>\n    </tr>\n    <tr>\n      <th>12</th>\n      <td>Mabuse</td>\n      <td>NaN</td>\n      <td>religious painting</td>\n      <td>5259.0</td>\n      <td>8400.0</td>\n      <td>1489790.0</td>\n      <td>wikiart</td>\n      <td>Northern Renaissance</td>\n      <td>Descent from the cross</td>\n      <td>train_only</td>\n      <td>True</td>\n      <td>59792.jpg</td>\n    </tr>\n    <tr>\n      <th>13</th>\n      <td>Utagawa Kunisada</td>\n      <td>NaN</td>\n      <td>landscape</td>\n      <td>9293.0</td>\n      <td>4688.0</td>\n      <td>10274760.0</td>\n      <td>wikiart</td>\n      <td>Ukiyo-e</td>\n      <td>Snowy landscape with a woman brandishing a bro...</td>\n      <td>train_only</td>\n      <td>True</td>\n      <td>48138.jpg</td>\n    </tr>\n    <tr>\n      <th>14</th>\n      <td>Ivan Aivazovsky</td>\n      <td>1873</td>\n      <td>marina</td>\n      <td>7444.0</td>\n      <td>5811.0</td>\n      <td>3189597.0</td>\n      <td>wikiart</td>\n      <td>Romanticism</td>\n      <td>Storm at sea</td>\n      <td>train_and_test</td>\n      <td>True</td>\n      <td>99442.jpg</td>\n    </tr>\n    <tr>\n      <th>15</th>\n      <td>Paul Serusier</td>\n      <td>1890</td>\n      <td>genre painting</td>\n      <td>7099.0</td>\n      <td>5857.0</td>\n      <td>9803854.0</td>\n      <td>wikiart</td>\n      <td>Cloisonnism</td>\n      <td>Seaweed Gatherer</td>\n      <td>train_and_test</td>\n      <td>False</td>\n      <td>32996.jpg</td>\n    </tr>\n    <tr>\n      <th>16</th>\n      <td>Hiroshige</td>\n      <td>1838</td>\n      <td>bird-and-flower painting</td>\n      <td>4256.0</td>\n      <td>9127.0</td>\n      <td>6483189.0</td>\n      <td>wikiart</td>\n      <td>Ukiyo-e</td>\n      <td>Two Mandarin Ducks</td>\n      <td>train_and_test</td>\n      <td>False</td>\n      <td>77203.jpg</td>\n    </tr>\n    <tr>\n      <th>17</th>\n      <td>Hiroshige</td>\n      <td>NaN</td>\n      <td>bird-and-flower painting</td>\n      <td>4154.0</td>\n      <td>9051.0</td>\n      <td>5964682.0</td>\n      <td>wikiart</td>\n      <td>Ukiyo-e</td>\n      <td>Hydrangea and Kingfisher</td>\n      <td>train_and_test</td>\n      <td>True</td>\n      <td>23508.jpg</td>\n    </tr>\n    <tr>\n      <th>18</th>\n      <td>Hieronymus Bosch</td>\n      <td>1515</td>\n      <td>religious painting</td>\n      <td>8533.0</td>\n      <td>4325.0</td>\n      <td>6675952.0</td>\n      <td>wikiart</td>\n      <td>Northern Renaissance</td>\n      <td>The Garden of Earthly Delights</td>\n      <td>train_and_test</td>\n      <td>True</td>\n      <td>82352.jpg</td>\n    </tr>\n    <tr>\n      <th>19</th>\n      <td>Hiroshige</td>\n      <td>1850</td>\n      <td>bird-and-flower painting</td>\n      <td>4045.0</td>\n      <td>8999.0</td>\n      <td>5930496.0</td>\n      <td>wikiart</td>\n      <td>Ukiyo-e</td>\n      <td>Moon, Swallows and Peach Blossoms</td>\n      <td>train_and_test</td>\n      <td>True</td>\n      <td>27254.jpg</td>\n    </tr>\n  </tbody>\n</table>\n</div>"
     },
     "execution_count": 31,
     "metadata": {},
     "output_type": "execute_result"
    }
   ],
   "source": [
    "# CSV variable\n",
    "all_data_csv = pd.read_csv('../Data/CSV/all_data_info.csv')\n",
    "# Look at the first 20 images of the data\n",
    "all_data_csv.head(20)"
   ],
   "metadata": {
    "collapsed": false
   }
  },
  {
   "cell_type": "code",
   "execution_count": 56,
   "outputs": [
    {
     "name": "stdout",
     "output_type": "stream",
     "text": [
      "Total number of images in the data: 103250\n",
      "The Split of the data between Train only/Train and Test/ Test only is: 14164/86150/2936\n",
      "number of different genres: 42\n",
      "\n",
      "The average size of X axis per image is 960.81 pixel, and average size of Y axis per image is 984.09\n",
      "The highest (X, Y) measurements are (25528, 9541), and the lowest are (200, 162)\n",
      "The variances of the axis measurements are (355538.29, 390799.19)\n"
     ]
    }
   ],
   "source": [
    "total_num = len(all_data_csv)\n",
    "train_only_num = len([x for x in all_data_csv[\"artist_group\"].values if x == 'train_only'])\n",
    "test_only_num = len([x for x in all_data_csv[\"artist_group\"].values if x == 'test_only'])\n",
    "train_and_test_num = len([x for x in all_data_csv[\"artist_group\"].values if x == 'train_and_test'])\n",
    "\n",
    "artist_num = len(all_data_csv['artist'].unique())\n",
    "genres_num = len(all_data_csv[\"genre\"].dropna().unique())\n",
    "\n",
    "pixelsx_mean = all_data_csv[\"pixelsx\"].mean()\n",
    "pixelsx_var = all_data_csv[\"pixelsx\"].var()\n",
    "pixelsx_max = int(all_data_csv[\"pixelsx\"].max())\n",
    "pixelsx_min = int(all_data_csv[\"pixelsx\"].min())\n",
    "\n",
    "pixelsy_mean = all_data_csv[\"pixelsy\"].mean()\n",
    "pixelsy_var = all_data_csv[\"pixelsy\"].var()\n",
    "pixelsy_max = int(all_data_csv[\"pixelsy\"].max())\n",
    "pixelsy_min = int(all_data_csv[\"pixelsy\"].min())\n",
    "\n",
    "# To check number of images with not NaN genre value\n",
    "#Nan_genres_num = len(all_data_csv.loc[pd.isna(all_data_csv[\"genre\"]) == False])\n",
    "\n",
    "print(f'Total number of images in the data: {total_num}')\n",
    "print(f'The Split of the data between Train only/Train and Test/ Test only is: {train_only_num}/{train_and_test_num}/{test_only_num}')\n",
    "print(f'number of different genres: {genres_num}\\n')\n",
    "print(f'The average size of X axis per image is {pixelsx_mean:.2f} pixel, and average size of Y axis per image is {pixelsy_mean:.2f}')\n",
    "print(f'The highest (X, Y) measurements are ({pixelsx_max}, {pixelsy_max}), and the lowest are ({pixelsx_min}, {pixelsy_min})')\n",
    "print(f'The variances of the axis measurements are ({pixelsx_var:.2f}, {pixelsy_var:.2f})')"
   ],
   "metadata": {
    "collapsed": false
   }
  }
 ],
 "metadata": {
  "kernelspec": {
   "display_name": "Python 3",
   "language": "python",
   "name": "python3"
  },
  "language_info": {
   "codemirror_mode": {
    "name": "ipython",
    "version": 2
   },
   "file_extension": ".py",
   "mimetype": "text/x-python",
   "name": "python",
   "nbconvert_exporter": "python",
   "pygments_lexer": "ipython2",
   "version": "2.7.6"
  }
 },
 "nbformat": 4,
 "nbformat_minor": 0
}
